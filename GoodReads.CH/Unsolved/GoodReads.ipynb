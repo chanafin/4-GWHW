{
 "cells": [
  {
   "cell_type": "code",
   "execution_count": 1,
   "metadata": {},
   "outputs": [],
   "source": [
    "# Import Dependencies\n",
    "\n",
    "import pandas as pd\n",
    "import os"
   ]
  },
  {
   "cell_type": "code",
   "execution_count": 2,
   "metadata": {},
   "outputs": [],
   "source": [
    "# Make a reference to the books.csv file path\n",
    "closedfile = os.path.join(\"Resources\", \"books.csv\")\n",
    "# Import the books.csv file as a DataFrame\n",
    "\n",
    "data_df = pd.read_csv(closedfile)"
   ]
  },
  {
   "cell_type": "code",
   "execution_count": 3,
   "metadata": {
    "scrolled": true
   },
   "outputs": [],
   "source": [
    "\n",
    "book_df = data_df[[\"isbn\",\"original_publication_year\", \"original_title\", \"authors\", \"ratings_1\", \"ratings_2\", \"ratings_3\", \"ratings_4\", \"ratings_5\"]]\n"
   ]
  },
  {
   "cell_type": "code",
   "execution_count": 4,
   "metadata": {},
   "outputs": [],
   "source": [
    "renamed_book_df = book_df.rename(columns={'isbn' : 'ISBN', 'original_publication_year' : 'Publication Year', 'original_title' : 'Original Title', 'authors' : 'Authors', 'ratings_1' : 'One Star Reviews', 'ratings_2' : 'Two Star Reviews', 'ratings_3' : 'Three Star Reviews', 'ratings_4' : 'Four Star Reviews', 'ratings_5' : 'Five Star Reviews'})\n",
    "        "
   ]
  },
  {
   "cell_type": "code",
   "execution_count": 5,
   "metadata": {},
   "outputs": [],
   "source": [
    "books_new_path = os.path.join('Output', 'books_new.csv')\n",
    "renamed_book_df.to_csv(books_new_path, index = False)"
   ]
  }
 ],
 "metadata": {
  "kernelspec": {
   "display_name": "Python 3",
   "language": "python",
   "name": "python3"
  },
  "language_info": {
   "codemirror_mode": {
    "name": "ipython",
    "version": 3
   },
   "file_extension": ".py",
   "mimetype": "text/x-python",
   "name": "python",
   "nbconvert_exporter": "python",
   "pygments_lexer": "ipython3",
   "version": "3.7.4"
  }
 },
 "nbformat": 4,
 "nbformat_minor": 2
}
