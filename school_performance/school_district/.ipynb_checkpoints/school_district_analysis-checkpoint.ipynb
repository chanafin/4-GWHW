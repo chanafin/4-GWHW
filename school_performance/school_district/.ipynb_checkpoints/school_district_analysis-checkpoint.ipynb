{
 "cells": [
  {
   "cell_type": "code",
   "execution_count": null,
   "metadata": {},
   "outputs": [],
   "source": [
    "# Dependencies and Setup\n",
    "import pandas as pd\n",
    "\n",
    "# File to Load \n",
    "school_data_to_load = \"Resources/schools_complete.csv\"\n",
    "student_data_to_load = \"Resources/students_complete.csv\"\n",
    "\n",
    "# Read School and Student Data File and store into Pandas Data Frames\n",
    "school_data = pd.read_csv(school_data_to_load)\n",
    "student_data = pd.read_csv(student_data_to_load)\n",
    "\n",
    "# Combine the data into a single dataset (consider using a left join)\n",
    "\n",
    "df = pd.merge(student_data, school_data, on='school_name', how = 'left')\n",
    "df.head()"
   ]
  },
  {
   "cell_type": "markdown",
   "metadata": {},
   "source": [
    "## District Summary"
   ]
  },
  {
   "cell_type": "code",
   "execution_count": null,
   "metadata": {},
   "outputs": [],
   "source": [
    "# Calculate the Totals (Schools and Students)\n",
    "students = df['Student ID'].count()\n",
    "schools = df['school_name'].nunique()\n",
    "\n",
    "# Calculate the Total Budget\n",
    "budget = school_data['budget'].sum()\n",
    "\n",
    "# Calculate the Average Scores\n",
    "\n",
    "avg_math = df['math_score'].mean()\n",
    "avg_reading = df['reading_score'].mean()\n",
    "\n",
    "# Calculate the Percentage Pass Rates\n",
    "\n",
    "math_pass = df.loc[df['math_score'] >= 70]\n",
    "read_pass = df.loc[df['reading_score'] >= 70]\n",
    "both_pass = df.loc[readpass.index & mathpass.index]\n",
    "\n",
    "math_pct = len(mathpass)/ student_count\n",
    "read_pct = len(readpass)/student_count\n",
    "both_pct = len(bothpass)/student_count\n",
    "\n",
    "# Minor Data Cleanup\n",
    "\n",
    "summary_df = pd.DataFrame({\"Total Students\" : [students], \"Total Schools\" : [schools], \n",
    "                           \"Total Budget\" : [budget], \"Average Math Score\" : [avg_math], \n",
    "                           \"Average Reading Score\" : [avg_reading], \"Stu. Pass % (Math)\" : [math_pct],\n",
    "                           \"Stu. Pass % (Reading)\" : [read_pct], \"Stu. Pass % (Both)\" : [both_pct]})\n",
    "\n",
    "summary_df['Total Students'] = summary_df['Total Students'].map(\"{:,}\".format)\n",
    "summary_df['Total Budget'] = summary_df['Total Budget'].map(\"${:,}\".format)\n",
    "summary_df['Average Math Score'] = summary_df['Average Math Score'].map(\"{:.2f}\".format)\n",
    "summary_df['Average Reading Score'] = summary_df['Average Reading Score'].map(\"{:.2f}\".format)\n",
    "summary_df['Stu. Pass % (Math)'] = summary_df['Stu. Pass % (Math)'].map(\"{:.2%}\".format)\n",
    "summary_df['Stu. Pass % (Reading)'] = summary_df['Stu. Pass % (Reading)'].map(\"{:.2%}\".format)\n",
    "summary_df['Stu. Pass % (Both)'] = summary_df['Stu. Pass % (Both)'].map(\"{:.2%}\".format)\n",
    "\n",
    "#Display the data frame\n",
    "summary_df"
   ]
  },
  {
   "cell_type": "markdown",
   "metadata": {},
   "source": [
    "## School Summary"
   ]
  },
  {
   "cell_type": "code",
   "execution_count": null,
   "metadata": {},
   "outputs": [],
   "source": [
    "# Determine the School Type\n",
    "school_types = school_data.set_index(['school_name'])['type']\n",
    "\n",
    "# Calculate the total student count\n",
    "student_count = df[\"school_name\"].value_counts()\n",
    "\n",
    "# Calculate the total school budget and per capita spending\n",
    "tot_school_budget = df.groupby('school_name').max()['budget']\n",
    "\n",
    "student_budget = tot_school_budget / student_count\n",
    "\n",
    "# Calculate the average test scores\n",
    "mathavg = df.groupby('school_name').mean()['math_score']\n",
    "readingavg = df.groupby('school_name').mean()['reading_score']\n",
    "\n",
    "# Calculate the passing scores by creating a filtered data frame\n",
    "\n",
    "passmath = df[df[\"math_score\"]>=70]\n",
    "passread = df[df[\"reading_score\"]>=70]\n",
    "\n",
    "passmathpct = passmath.groupby('school_name').count()['math_score'] / student_count \n",
    "passreadpct = passread.groupby('school_name').count()['reading_score'] / student_count \n",
    "\n",
    "passboth = (passmathpct + passreadpct)/2\n",
    "            \n",
    "# Convert to data frame/Minor data munging\n",
    "\n",
    "schoolsummary_df = pd.DataFrame({\"Total Students\" : student_count, \"School Type\" : school_types, \n",
    "                                 \"Total School Budget\" : tot_school_budget, \"Budget per Student\" : student_budget, \n",
    "                                 \"Average Math Score\" : mathavg, \"Average Reading Score\" : readingavg, \n",
    "                                 \"Stu. Pass % (Math)\" : passmathpct ,\"Stu. Pass % (Reading)\" : passreadpct, \n",
    "                                 \"Stu. Pass % (Both)\" : passboth})\n",
    "\n",
    "schoolsummaryform_df = schoolsummary_df.copy()\n",
    "\n",
    "schoolsummaryform_df['Total Students'] = schoolsummary_df['Total Students'].map(\"{:,}\".format)\n",
    "schoolsummaryform_df['Total School Budget'] = schoolsummary_df['Total School Budget'].map(\"${:,}\".format)\n",
    "schoolsummaryform_df['Budget per Student'] = schoolsummary_df['Budget per Student'].map(\"${:,}\".format)\n",
    "schoolsummaryform_df['Average Math Score'] = schoolsummary_df['Average Math Score'].map(\"{:.2f}\".format)\n",
    "schoolsummaryform_df['Average Reading Score'] = schoolsummary_df['Average Reading Score'].map(\"{:.2f}\".format)\n",
    "schoolsummaryform_df['Stu. Pass % (Math)'] = schoolsummary_df['Stu. Pass % (Math)'].map(\"{:.2%}\".format)\n",
    "schoolsummaryform_df['Stu. Pass % (Reading)'] = schoolsummary_df['Stu. Pass % (Reading)'].map(\"{:.2%}\".format)\n",
    "schoolsummaryform_df['Stu. Pass % (Both)'] = schoolsummary_df['Stu. Pass % (Both)'].map(\"{:.2%}\".format)\n",
    "\n",
    "# Display the data frame\n",
    "\n",
    "schoolsummaryform_df\n"
   ]
  },
  {
   "cell_type": "markdown",
   "metadata": {},
   "source": [
    "## Top Performing Schools (By Passing Rate)"
   ]
  },
  {
   "cell_type": "code",
   "execution_count": null,
   "metadata": {
    "scrolled": true
   },
   "outputs": [],
   "source": [
    "# Sort and show top five schools\n",
    "aschools = schoolsummaryform_df.sort_values('Stu. Pass % (Both)', ascending = False)\n",
    "\n",
    "aschools.head()"
   ]
  },
  {
   "cell_type": "markdown",
   "metadata": {},
   "source": [
    "## Bottom Performing Schools (By Passing Rate)"
   ]
  },
  {
   "cell_type": "code",
   "execution_count": null,
   "metadata": {},
   "outputs": [],
   "source": [
    "# Sort and show bottom five schools\n",
    "dschools = schoolsummaryform_df.sort_values('Stu. Pass % (Both)')\n",
    "\n",
    "dschools.head()"
   ]
  },
  {
   "cell_type": "markdown",
   "metadata": {
    "collapsed": true
   },
   "source": [
    "## Math Scores by Grade"
   ]
  },
  {
   "cell_type": "code",
   "execution_count": null,
   "metadata": {},
   "outputs": [],
   "source": [
    "# Create data series of scores by grade levels using conditionals\n",
    "\n",
    "ninth = df[(df['grade'] == '9th')]\n",
    "tenth = df[(df['grade'] == '10th')]\n",
    "eleventh = df[(df['grade'] == '11th')]\n",
    "twelfth = df[(df['grade'] == '12th')]\n",
    "\n",
    "# Group each by school name\n",
    "\n",
    "ninthgrp = ninth.groupby(['school_name']).mean()['math_score']\n",
    "tenthgrp = tenth.groupby(['school_name']).mean()['math_score']\n",
    "eleventhgrp = eleventh.groupby(['school_name']).mean()['math_score']\n",
    "twelfthgrp = twelfth.groupby(['school_name']).mean()['math_score']\n",
    "\n",
    "# Combine series into single data frame\n",
    "\n",
    "mathscores_grade = pd.DataFrame({\"9th\" : ninthgrp, \"10th\" : tenthgrp, '11th' : eleventhgrp, '12th' : twelfthgrp})\n",
    "\n",
    "# Minor data munging\n",
    "\n",
    "mathscores_grade['9th'] = mathscores_grade['9th'].map(\"{:.2f}\".format)\n",
    "mathscores_grade['10th'] = mathscores_grade['10th'].map(\"{:.2f}\".format)\n",
    "mathscores_grade['11th'] = mathscores_grade['11th'].map(\"{:.2f}\".format)\n",
    "mathscores_grade['12th'] = mathscores_grade['12th'].map(\"{:.2f}\".format)\n",
    "\n",
    "# Display the data frame\n",
    "\n",
    "final_math = mathscores_grade.reset_index()\n",
    "final_math"
   ]
  },
  {
   "cell_type": "markdown",
   "metadata": {},
   "source": [
    "## Reading Score by Grade "
   ]
  },
  {
   "cell_type": "code",
   "execution_count": null,
   "metadata": {},
   "outputs": [],
   "source": [
    "# Create data series of scores by grade levels using conditionals\n",
    "\n",
    "ninth = df[(df['grade'] == '9th')]\n",
    "tenth = df[(df['grade'] == '10th')]\n",
    "eleventh = df[(df['grade'] == '11th')]\n",
    "twelfth = df[(df['grade'] == '12th')]\n",
    "\n",
    "# Group each by school name\n",
    "\n",
    "ninthgrp = ninth.groupby(['school_name']).mean()['reading_score']\n",
    "tenthgrp = tenth.groupby(['school_name']).mean()['reading_score']\n",
    "eleventhgrp = eleventh.groupby(['school_name']).mean()['reading_score']\n",
    "twelfthgrp = twelfth.groupby(['school_name']).mean()['reading_score']\n",
    "\n",
    "# Combine series into single data frame\n",
    "\n",
    "readscores_grade = pd.DataFrame({\"9th\" : ninthgrp, \"10th\" : tenthgrp, '11th' : eleventhgrp, '12th' : twelfthgrp})\n",
    "\n",
    "# Minor data munging\n",
    "readscores_grade['9th'] = readscores_grade['9th'].map(\"{:.2f}\".format)\n",
    "readscores_grade['10th'] = readscores_grade['10th'].map(\"{:.2f}\".format)\n",
    "readscores_grade['11th'] = readscores_grade['11th'].map(\"{:.2f}\".format)\n",
    "readscores_grade['12th'] = readscores_grade['12th'].map(\"{:.2f}\".format)\n",
    "\n",
    "\n",
    "# Display the data frame\n",
    "final_reading = readscores_grade.reset_index()\n",
    "final_reading"
   ]
  },
  {
   "cell_type": "markdown",
   "metadata": {},
   "source": [
    "## Scores by School Spending"
   ]
  },
  {
   "cell_type": "code",
   "execution_count": null,
   "metadata": {},
   "outputs": [],
   "source": [
    "# Establish the bins -- choose any set of bins you would like, but see below for testing bins\n",
    "# to test, set your bins as follows: [0, 585, 615, 645, 675]\n",
    "# ALSO -- Note that the values for `% Passing Math`, `% Passing Reading` and `% Overall Passing Rate`\n",
    "# were computed using averages of averages -- your results may vary if you use weighted averages \n",
    "\n",
    "# Categorize the spending based on the bins\n",
    "bins = [0, 590, 615, 645, 655]\n",
    "group_names = [\"Less than $590\", \"$590-615\", \"$615-645\", \"645-675\"]\n",
    "schoolsummary_df['Spending Ranges'] = pd.cut(schoolsummary_df['Budget per Student'], bins, labels = group_names, include_lowest = True)\n",
    "# Assemble into data frame\n",
    "\n",
    "schoolspending_df = schoolsummary_df.groupby('Spending Ranges').mean()\n",
    "\n",
    "# Minor data munging\n",
    "schoolspending_df = schoolspending_df[['Average Math Score', 'Average Reading Score', 'Stu. Pass % (Math)', 'Stu. Pass % (Reading)', 'Stu. Pass % (Both)']]\n",
    "\n",
    "schoolspending_df['Average Math Score'] = schoolspending_df['Average Math Score'].map(\"{:.2f}\".format)\n",
    "schoolspending_df['Average Reading Score'] = schoolspending_df['Average Reading Score'].map(\"{:.2f}\".format)\n",
    "schoolspending_df['Stu. Pass % (Both)'] = schoolspending_df['Stu. Pass % (Both)'].map(\"{:.2%}\".format)\n",
    "schoolspending_df['Stu. Pass % (Math)'] = schoolspending_df['Stu. Pass % (Math)'].map(\"{:.2%}\".format)\n",
    "schoolspending_df['Stu. Pass % (Reading)'] = schoolspending_df['Stu. Pass % (Reading)'].map(\"{:.2%}\".format)\n",
    "\n",
    "# Display results\n",
    "schoolspending_df"
   ]
  },
  {
   "cell_type": "markdown",
   "metadata": {},
   "source": [
    "## Scores by School Size"
   ]
  },
  {
   "cell_type": "code",
   "execution_count": null,
   "metadata": {
    "scrolled": true
   },
   "outputs": [],
   "source": [
    "# Establish the bins \n",
    "\n",
    "bins = [0, 1000, 2000, 5000]\n",
    "group_names = [\"Small\", \"Medium\", \"Large\"]\n",
    "\n",
    "# Categorize the spending based on the bins\n",
    "schoolsummary_df['School Size'] = pd.cut(schoolsummary_df['Total Students'], bins, labels = group_names, include_lowest = True)\n",
    "\n",
    "# Calculate the scores based on bins\n",
    "schoolsize_df = schoolsummary_df.groupby('School Size').mean()\n",
    "\n",
    "# Assemble into data frame\n",
    "\n",
    "# Minor data munging\n",
    "\n",
    "schoolsize_df = schoolsize_df[['Average Math Score', 'Average Reading Score', 'Stu. Pass % (Math)', 'Stu. Pass % (Reading)', 'Stu. Pass % (Both)']]\n",
    "\n",
    "schoolsize_df['Average Math Score'] = schoolsize_df['Average Math Score'].map(\"{:.2f}\".format)\n",
    "schoolsize_df['Average Reading Score'] = schoolsize_df['Average Reading Score'].map(\"{:.2f}\".format)\n",
    "schoolsize_df['Stu. Pass % (Both)'] = schoolsize_df['Stu. Pass % (Both)'].map(\"{:.2%}\".format)\n",
    "schoolsize_df['Stu. Pass % (Math)'] = schoolsize_df['Stu. Pass % (Math)'].map(\"{:.2%}\".format)\n",
    "schoolsize_df['Stu. Pass % (Reading)'] = schoolsize_df['Stu. Pass % (Reading)'].map(\"{:.2%}\".format)\n",
    "\n",
    "# Display results\n",
    "schoolsize_df"
   ]
  },
  {
   "cell_type": "markdown",
   "metadata": {},
   "source": [
    "## Scores by School Type"
   ]
  },
  {
   "cell_type": "code",
   "execution_count": null,
   "metadata": {},
   "outputs": [],
   "source": [
    "# Type | Average Math Score | Average Reading Score | % Passing Math | % Passing Reading | % Overall Passing Rate\n",
    "\n",
    "# Assemble into data frame\n",
    "schooltype_df = schoolsummary_df.groupby('School Type').mean()\n",
    "schooltype_df = schooltype_df[['Average Math Score', 'Average Reading Score', 'Stu. Pass % (Math)', 'Stu. Pass % (Reading)', 'Stu. Pass % (Both)']]\n",
    "\n",
    "# Minor data munging\n",
    "schooltype_df['Average Math Score'] = schooltype_df['Average Math Score'].map(\"{:.2f}\".format)\n",
    "schooltype_df['Average Reading Score'] = schooltype_df['Average Reading Score'].map(\"{:.2f}\".format)\n",
    "schooltype_df['Stu. Pass % (Both)'] = schooltype_df['Stu. Pass % (Both)'].map(\"{:.2%}\".format)\n",
    "schooltype_df['Stu. Pass % (Math)'] = schooltype_df['Stu. Pass % (Math)'].map(\"{:.2%}\".format)\n",
    "schooltype_df['Stu. Pass % (Reading)'] = schooltype_df['Stu. Pass % (Reading)'].map(\"{:.2%}\".format)\n",
    "\n",
    "# Display results\n",
    "schooltype_df"
   ]
  },
  {
   "cell_type": "code",
   "execution_count": null,
   "metadata": {},
   "outputs": [],
   "source": []
  }
 ],
 "metadata": {
  "anaconda-cloud": {},
  "kernel_info": {
   "name": "python3"
  },
  "kernelspec": {
   "display_name": "Python 3",
   "language": "python",
   "name": "python3"
  },
  "language_info": {
   "codemirror_mode": {
    "name": "ipython",
    "version": 3
   },
   "file_extension": ".py",
   "mimetype": "text/x-python",
   "name": "python",
   "nbconvert_exporter": "python",
   "pygments_lexer": "ipython3",
   "version": "3.7.4"
  },
  "latex_envs": {
   "LaTeX_envs_menu_present": true,
   "autoclose": false,
   "autocomplete": true,
   "bibliofile": "biblio.bib",
   "cite_by": "apalike",
   "current_citInitial": 1,
   "eqLabelWithNumbers": true,
   "eqNumInitial": 1,
   "hotkeys": {
    "equation": "Ctrl-E",
    "itemize": "Ctrl-I"
   },
   "labels_anchors": false,
   "latex_user_defs": false,
   "report_style_numbering": false,
   "user_envs_cfg": false
  },
  "nteract": {
   "version": "0.8.4"
  }
 },
 "nbformat": 4,
 "nbformat_minor": 1
}
